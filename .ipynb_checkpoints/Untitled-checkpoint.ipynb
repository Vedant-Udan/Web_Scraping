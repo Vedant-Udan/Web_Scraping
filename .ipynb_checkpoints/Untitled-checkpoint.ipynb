{
 "cells": [
  {
   "cell_type": "code",
   "execution_count": 1,
   "metadata": {},
   "outputs": [],
   "source": [
    "import requests\n",
    "from bs4 import BeautifulSoup\n",
    "from csv import writer\n",
    "import pandas as pd"
   ]
  },
  {
   "cell_type": "code",
   "execution_count": 2,
   "metadata": {},
   "outputs": [],
   "source": [
    "url = \"https://www.flipkart.com/search?q=iphones&otracker=search&otracker1=search&marketplace=FLIPKART&as-show=on&as=off\""
   ]
  },
  {
   "cell_type": "code",
   "execution_count": 3,
   "metadata": {},
   "outputs": [
    {
     "name": "stdout",
     "output_type": "stream",
     "text": [
      "<Response [200]>\n"
     ]
    }
   ],
   "source": [
    "r = requests.get(url)\n",
    "print(r)"
   ]
  },
  {
   "cell_type": "code",
   "execution_count": 4,
   "metadata": {},
   "outputs": [],
   "source": [
    "soup = BeautifulSoup(r.content,\"html.parser\")\n"
   ]
  },
  {
   "cell_type": "code",
   "execution_count": 5,
   "metadata": {},
   "outputs": [],
   "source": [
    "lists = soup.find_all(\"div\", class_=\"_1AtVbE col-12-12\")"
   ]
  },
  {
   "cell_type": "code",
   "execution_count": 6,
   "metadata": {},
   "outputs": [
    {
     "name": "stdout",
     "output_type": "stream",
     "text": [
      "30\n"
     ]
    }
   ],
   "source": [
    "print(len(lists))"
   ]
  },
  {
   "cell_type": "code",
   "execution_count": 7,
   "metadata": {},
   "outputs": [],
   "source": [
    "\n",
    "with open(\"iphone.csv\",\"w\",encoding =\"utf8\",newline = \"\") as f:\n",
    "    thewriter = writer(f)\n",
    "    header =[\"Name\",\"Rom\",\"Screen\",\"Camera\",\"Processor\",\"Price\"]\n",
    "    thewriter.writerow(header)\n",
    "    for list in lists:\n",
    "        name = list.find(\"div\",class_=\"_4rR01T\")\n",
    "        if name == None:\n",
    "            pass\n",
    "        else:\n",
    "            l = [name.text]\n",
    "            for i in range(4):\n",
    "                l.append(list.find(\"ul\",class_=\"_1xgFaf\").findChildren()[i].text)\n",
    "            l.append(list.find(\"div\",class_=\"_30jeq3 _1_WHN1\").text)\n",
    "            thewriter.writerow(l)\n",
    "\n",
    "        "
   ]
  },
  {
   "cell_type": "code",
   "execution_count": 8,
   "metadata": {},
   "outputs": [
    {
     "data": {
      "text/html": [
       "<div>\n",
       "<style scoped>\n",
       "    .dataframe tbody tr th:only-of-type {\n",
       "        vertical-align: middle;\n",
       "    }\n",
       "\n",
       "    .dataframe tbody tr th {\n",
       "        vertical-align: top;\n",
       "    }\n",
       "\n",
       "    .dataframe thead th {\n",
       "        text-align: right;\n",
       "    }\n",
       "</style>\n",
       "<table border=\"1\" class=\"dataframe\">\n",
       "  <thead>\n",
       "    <tr style=\"text-align: right;\">\n",
       "      <th></th>\n",
       "      <th>Name</th>\n",
       "      <th>Rom</th>\n",
       "      <th>Screen</th>\n",
       "      <th>Camera</th>\n",
       "      <th>Processor</th>\n",
       "      <th>Price</th>\n",
       "    </tr>\n",
       "  </thead>\n",
       "  <tbody>\n",
       "    <tr>\n",
       "      <th>0</th>\n",
       "      <td>APPLE iPhone 14 (Blue, 128 GB)</td>\n",
       "      <td>128 GB ROM</td>\n",
       "      <td>15.49 cm (6.1 inch) Super Retina XDR Display</td>\n",
       "      <td>12MP + 12MP | 12MP Front Camera</td>\n",
       "      <td>A15 Bionic Chip, 6 Core Processor Processor</td>\n",
       "      <td>₹73,990</td>\n",
       "    </tr>\n",
       "    <tr>\n",
       "      <th>1</th>\n",
       "      <td>APPLE iPhone 14 (Starlight, 128 GB)</td>\n",
       "      <td>128 GB ROM</td>\n",
       "      <td>15.49 cm (6.1 inch) Super Retina XDR Display</td>\n",
       "      <td>12MP + 12MP | 12MP Front Camera</td>\n",
       "      <td>A15 Bionic Chip, 6 Core Processor Processor</td>\n",
       "      <td>₹73,990</td>\n",
       "    </tr>\n",
       "    <tr>\n",
       "      <th>2</th>\n",
       "      <td>APPLE iPhone 14 (Midnight, 128 GB)</td>\n",
       "      <td>128 GB ROM</td>\n",
       "      <td>15.49 cm (6.1 inch) Super Retina XDR Display</td>\n",
       "      <td>12MP + 12MP | 12MP Front Camera</td>\n",
       "      <td>A15 Bionic Chip, 6 Core Processor Processor</td>\n",
       "      <td>₹73,990</td>\n",
       "    </tr>\n",
       "    <tr>\n",
       "      <th>3</th>\n",
       "      <td>APPLE iPhone 14 (Purple, 128 GB)</td>\n",
       "      <td>128 GB ROM</td>\n",
       "      <td>15.49 cm (6.1 inch) Super Retina XDR Display</td>\n",
       "      <td>12MP + 12MP | 12MP Front Camera</td>\n",
       "      <td>A15 Bionic Chip, 6 Core Processor Processor</td>\n",
       "      <td>₹73,990</td>\n",
       "    </tr>\n",
       "    <tr>\n",
       "      <th>4</th>\n",
       "      <td>APPLE iPhone 13 (Starlight, 128 GB)</td>\n",
       "      <td>128 GB ROM</td>\n",
       "      <td>15.49 cm (6.1 inch) Super Retina XDR Display</td>\n",
       "      <td>12MP + 12MP | 12MP Front Camera</td>\n",
       "      <td>A15 Bionic Chip Processor</td>\n",
       "      <td>₹61,999</td>\n",
       "    </tr>\n",
       "  </tbody>\n",
       "</table>\n",
       "</div>"
      ],
      "text/plain": [
       "                                  Name         Rom  \\\n",
       "0       APPLE iPhone 14 (Blue, 128 GB)  128 GB ROM   \n",
       "1  APPLE iPhone 14 (Starlight, 128 GB)  128 GB ROM   \n",
       "2   APPLE iPhone 14 (Midnight, 128 GB)  128 GB ROM   \n",
       "3     APPLE iPhone 14 (Purple, 128 GB)  128 GB ROM   \n",
       "4  APPLE iPhone 13 (Starlight, 128 GB)  128 GB ROM   \n",
       "\n",
       "                                         Screen  \\\n",
       "0  15.49 cm (6.1 inch) Super Retina XDR Display   \n",
       "1  15.49 cm (6.1 inch) Super Retina XDR Display   \n",
       "2  15.49 cm (6.1 inch) Super Retina XDR Display   \n",
       "3  15.49 cm (6.1 inch) Super Retina XDR Display   \n",
       "4  15.49 cm (6.1 inch) Super Retina XDR Display   \n",
       "\n",
       "                            Camera  \\\n",
       "0  12MP + 12MP | 12MP Front Camera   \n",
       "1  12MP + 12MP | 12MP Front Camera   \n",
       "2  12MP + 12MP | 12MP Front Camera   \n",
       "3  12MP + 12MP | 12MP Front Camera   \n",
       "4  12MP + 12MP | 12MP Front Camera   \n",
       "\n",
       "                                     Processor    Price  \n",
       "0  A15 Bionic Chip, 6 Core Processor Processor  ₹73,990  \n",
       "1  A15 Bionic Chip, 6 Core Processor Processor  ₹73,990  \n",
       "2  A15 Bionic Chip, 6 Core Processor Processor  ₹73,990  \n",
       "3  A15 Bionic Chip, 6 Core Processor Processor  ₹73,990  \n",
       "4                    A15 Bionic Chip Processor  ₹61,999  "
      ]
     },
     "execution_count": 8,
     "metadata": {},
     "output_type": "execute_result"
    }
   ],
   "source": [
    "df = pd.read_csv(\"iphone.csv\")\n",
    "df.head()"
   ]
  }
 ],
 "metadata": {
  "kernelspec": {
   "display_name": "Python 3 (ipykernel)",
   "language": "python",
   "name": "python3"
  },
  "language_info": {
   "codemirror_mode": {
    "name": "ipython",
    "version": 3
   },
   "file_extension": ".py",
   "mimetype": "text/x-python",
   "name": "python",
   "nbconvert_exporter": "python",
   "pygments_lexer": "ipython3",
   "version": "3.10.7"
  }
 },
 "nbformat": 4,
 "nbformat_minor": 2
}
